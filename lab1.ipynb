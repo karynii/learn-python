{
 "cells": [
  {
   "cell_type": "code",
   "execution_count": 18,
   "metadata": {},
   "outputs": [
    {
     "name": "stdout",
     "output_type": "stream",
     "text": [
      "welcome to my program\n",
      "Hello Dawn, you are 19 years old, and 180.0 metres tall. Have a great day!\n"
     ]
    }
   ],
   "source": [
    "print(\"welcome to my program\")\n",
    "name= input(\"What is your name? \")\n",
    "age= int(input(\"How old are you? \"))\n",
    "height= float(input(\"How tall are you\"))\n",
    "print(f\"Hello {name}, you are {age} years old, and {height} metres tall. Have a great day!\")"
   ]
  },
  {
   "cell_type": "code",
   "execution_count": 10,
   "metadata": {},
   "outputs": [
    {
     "name": "stdout",
     "output_type": "stream",
     "text": [
      "BMW X6 M  1234\n"
     ]
    }
   ],
   "source": [
    "make=\"BMW\"\n",
    "model=\"X6 M\"\n",
    "car_registration_number=\"1234\"\n",
    "\n",
    "car1_info=make + \" \" +model+\" \" + \" \"+ car_registration_number\n",
    "print(car1_info)"
   ]
  },
  {
   "cell_type": "code",
   "execution_count": 19,
   "metadata": {},
   "outputs": [
    {
     "data": {
      "text/plain": [
       "float"
      ]
     },
     "execution_count": 19,
     "metadata": {},
     "output_type": "execute_result"
    }
   ],
   "source": []
  },
  {
   "cell_type": "markdown",
   "metadata": {},
   "source": [
    "# Operators"
   ]
  },
  {
   "cell_type": "code",
   "execution_count": 23,
   "metadata": {},
   "outputs": [
    {
     "name": "stdout",
     "output_type": "stream",
     "text": [
      "16.666666666666668\n"
     ]
    }
   ],
   "source": [
    "first= int(input(\"Enter the first number\"))\n",
    "second= int(input(\"Enter the first number\"))\n",
    "third= int(input(\"Enter the first number\"))\n",
    "result=int(first+second+third)/3\n",
    "print(result)\n"
   ]
  },
  {
   "cell_type": "code",
   "execution_count": 24,
   "metadata": {},
   "outputs": [
    {
     "data": {
      "text/plain": [
       "float"
      ]
     },
     "execution_count": 24,
     "metadata": {},
     "output_type": "execute_result"
    }
   ],
   "source": [
    "type(result)"
   ]
  },
  {
   "cell_type": "code",
   "execution_count": 27,
   "metadata": {},
   "outputs": [
    {
     "name": "stdout",
     "output_type": "stream",
     "text": [
      "Welcome the bill calculator! Enter the bill items below.\n",
      "\n",
      "Total without tax= 1690.0 \n",
      " Total with tax =2028.0\n"
     ]
    }
   ],
   "source": [
    "print(\"Welcome the bill calculator! Enter the bill items below.\\n\")\n",
    "\n",
    "starter= float(input(\"Starter= \"))\n",
    "main_meal= float(input(\"Main meal= \"))\n",
    "dessert= float(input(\"Dessert= \"))\n",
    "\n",
    "total =float(starter+ main_meal + dessert)\n",
    "tax= total *0.2\n",
    "print(f\"Total without tax= {total} \\n Total with tax ={total+tax}\")"
   ]
  },
  {
   "cell_type": "markdown",
   "metadata": {},
   "source": [
    "# Branching and Loops"
   ]
  },
  {
   "cell_type": "code",
   "execution_count": 30,
   "metadata": {},
   "outputs": [
    {
     "name": "stdout",
     "output_type": "stream",
     "text": [
      "Welcome to my program,enter the password.\n",
      "Access denied!\n",
      "End of program. Bye\n"
     ]
    }
   ],
   "source": [
    "print(\"Welcome to my program,enter the password.\")\n",
    "password= input(\"Enter the password here: \")\n",
    "if password == \"letmein\":\n",
    "    print(\"Access granted!\")\n",
    "if password!= (\"letmein\"):\n",
    "    print (\"Access denied!\")\n",
    "\n",
    "print (\"End of program. Bye\")"
   ]
  }
 ],
 "metadata": {
  "kernelspec": {
   "display_name": "Python 3",
   "language": "python",
   "name": "python3"
  },
  "language_info": {
   "codemirror_mode": {
    "name": "ipython",
    "version": 3
   },
   "file_extension": ".py",
   "mimetype": "text/x-python",
   "name": "python",
   "nbconvert_exporter": "python",
   "pygments_lexer": "ipython3",
   "version": "3.12.2"
  }
 },
 "nbformat": 4,
 "nbformat_minor": 2
}
