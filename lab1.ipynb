{
 "cells": [
  {
   "cell_type": "code",
   "execution_count": 18,
   "metadata": {},
   "outputs": [
    {
     "name": "stdout",
     "output_type": "stream",
     "text": [
      "welcome to my program\n",
      "Hello Dawn, you are 19 years old, and 180.0 metres tall. Have a great day!\n"
     ]
    }
   ],
   "source": [
    "print(\"welcome to my program\")\n",
    "name= input(\"What is your name? \")\n",
    "age= int(input(\"How old are you? \"))\n",
    "height= float(input(\"How tall are you\"))\n",
    "print(f\"Hello {name}, you are {age} years old, and {height} metres tall. Have a great day!\")"
   ]
  },
  {
   "cell_type": "code",
   "execution_count": 10,
   "metadata": {},
   "outputs": [
    {
     "name": "stdout",
     "output_type": "stream",
     "text": [
      "BMW X6 M  1234\n"
     ]
    }
   ],
   "source": [
    "make=\"BMW\"\n",
    "model=\"X6 M\"\n",
    "car_registration_number=\"1234\"\n",
    "\n",
    "car1_info=make + \" \" +model+\" \" + \" \"+ car_registration_number\n",
    "print(car1_info)"
   ]
  },
  {
   "cell_type": "code",
   "execution_count": 19,
   "metadata": {},
   "outputs": [
    {
     "data": {
      "text/plain": [
       "float"
      ]
     },
     "execution_count": 19,
     "metadata": {},
     "output_type": "execute_result"
    }
   ],
   "source": []
  },
  {
   "cell_type": "markdown",
   "metadata": {},
   "source": [
    "# Operators"
   ]
  },
  {
   "cell_type": "code",
   "execution_count": 23,
   "metadata": {},
   "outputs": [
    {
     "name": "stdout",
     "output_type": "stream",
     "text": [
      "16.666666666666668\n"
     ]
    }
   ],
   "source": [
    "first= int(input(\"Enter the first number\"))\n",
    "second= int(input(\"Enter the first number\"))\n",
    "third= int(input(\"Enter the first number\"))\n",
    "result=int(first+second+third)/3\n",
    "print(result)\n"
   ]
  },
  {
   "cell_type": "code",
   "execution_count": 24,
   "metadata": {},
   "outputs": [
    {
     "data": {
      "text/plain": [
       "float"
      ]
     },
     "execution_count": 24,
     "metadata": {},
     "output_type": "execute_result"
    }
   ],
   "source": [
    "type(result)"
   ]
  },
  {
   "cell_type": "code",
   "execution_count": 27,
   "metadata": {},
   "outputs": [
    {
     "name": "stdout",
     "output_type": "stream",
     "text": [
      "Welcome the bill calculator! Enter the bill items below.\n",
      "\n",
      "Total without tax= 1690.0 \n",
      " Total with tax =2028.0\n"
     ]
    }
   ],
   "source": [
    "print(\"Welcome the bill calculator! Enter the bill items below.\\n\")\n",
    "\n",
    "starter= float(input(\"Starter= \"))\n",
    "main_meal= float(input(\"Main meal= \"))\n",
    "dessert= float(input(\"Dessert= \"))\n",
    "\n",
    "total =float(starter+ main_meal + dessert)\n",
    "tax= total *0.2\n",
    "print(f\"Total without tax= {total} \\n Total with tax ={total+tax}\")"
   ]
  },
  {
   "cell_type": "markdown",
   "metadata": {},
   "source": [
    "# Branching and Loops"
   ]
  },
  {
   "cell_type": "code",
   "execution_count": 36,
   "metadata": {},
   "outputs": [
    {
     "name": "stdout",
     "output_type": "stream",
     "text": [
      "Your number is even!\n"
     ]
    }
   ],
   "source": [
    "number=int(input(\"Enter a number\"))\n",
    "if number >0:\n",
    "    print(\"Your number is higher than zero\")\n",
    "elif number >100:\n",
    "    print(\"You are aiming high\")\n",
    "elif (number%2)==0:\n",
    "    print(\"Your number is even!\")\n",
    "else:\n",
    "    print(\"You entered a negative number\")"
   ]
  },
  {
   "cell_type": "code",
   "execution_count": 33,
   "metadata": {},
   "outputs": [
    {
     "name": "stdout",
     "output_type": "stream",
     "text": [
      "Welcome to my program\n",
      "The number is positive\n"
     ]
    }
   ],
   "source": [
    "print(\"Welcome to my program\")\n",
    "number=float(input(\"Enter a number\"))\n",
    "if number>0:\n",
    "    print(\"The number is positive\")\n",
    "elif number <0:\n",
    "    print(\"The number is negative\")\n",
    "else:\n",
    "    print(\"You entered zero\")"
   ]
  },
  {
   "cell_type": "code",
   "execution_count": 30,
   "metadata": {},
   "outputs": [
    {
     "name": "stdout",
     "output_type": "stream",
     "text": [
      "Welcome to my program,enter the password.\n",
      "Access denied!\n",
      "End of program. Bye\n"
     ]
    }
   ],
   "source": [
    "print(\"Welcome to my program,enter the password.\")\n",
    "password= input(\"Enter the password here: \")\n",
    "if password == \"letmein\":\n",
    "    print(\"Access granted!\")\n",
    "if password!= (\"letmein\"):\n",
    "    print (\"Access denied!\")\n",
    "\n",
    "print (\"End of program. Bye\")"
   ]
  },
  {
   "cell_type": "code",
   "execution_count": 44,
   "metadata": {},
   "outputs": [
    {
     "name": "stdout",
     "output_type": "stream",
     "text": [
      "Welcome to my program,enter the password.\n",
      "Access granted! End of program. Bye\n"
     ]
    }
   ],
   "source": [
    "print(\"Welcome to my program,enter the password.\")\n",
    "password= input(\"Enter the password here: \")\n",
    "attempts=1\n",
    "\n",
    "while password!= (\"letmein\") and (attempts<=3):\n",
    "    password=input(\"Incorret! Try Again: \")\n",
    "    attempts=attempts+1\n",
    "if password==\"letmein\":\n",
    "    print (\"Access granted! End of program. Bye\")\n",
    "else:\n",
    "    print(\"Too many attempts! Bye\")"
   ]
  },
  {
   "cell_type": "markdown",
   "metadata": {},
   "source": [
    "## Guess my Number Game"
   ]
  },
  {
   "cell_type": "code",
   "execution_count": 48,
   "metadata": {},
   "outputs": [
    {
     "name": "stdout",
     "output_type": "stream",
     "text": [
      "Welcome to the Guess my number game\n",
      "8\n",
      "Congrats! You guessed the number! it was 8\n"
     ]
    }
   ],
   "source": [
    "import random\n",
    "print(\"Welcome to the Guess my number game\")\n",
    "imagined_number=random.randint(1,9)\n",
    "print(imagined_number)\n",
    "users_number=0\n",
    "\n",
    "while users_number!= imagined_number:\n",
    "    users_number=int(input(\"Guess a number between 1 and 9\"))\n",
    "\n",
    "\n",
    "print(\"Congrats! You guessed the number! it was\", users_number)"
   ]
  },
  {
   "cell_type": "code",
   "execution_count": 3,
   "metadata": {},
   "outputs": [
    {
     "name": "stdout",
     "output_type": "stream",
     "text": [
      " Welcome to the Game! Guess a number between 1 and 100\n",
      "Your guess is too low\n",
      "Your guess is too high\n",
      "Congratulations! You guessed the correct number\n"
     ]
    }
   ],
   "source": [
    "import random\n",
    "target_number=random.randint(1,100)\n",
    "#Tell the User the rules of the game\n",
    "print(f\" Welcome to the Game! Guess a number between 1 and 100\")\n",
    "guess=-1\n",
    "while guess != target_number:\n",
    "    #Ask the user to guess a number:\n",
    "    guess=int(input(\"Enter your guess\"))\n",
    "\n",
    "    if guess>target_number:\n",
    "        print(\"Your guess is too high\")\n",
    "    elif guess < target_number:\n",
    "        print(\"Your guess is too low\")\n",
    "print(\"Congratulations! You guessed the correct number\")"
   ]
  },
  {
   "cell_type": "code",
   "execution_count": 14,
   "metadata": {},
   "outputs": [
    {
     "name": "stdout",
     "output_type": "stream",
     "text": [
      "012340\n",
      "2\n",
      "4\n",
      "6\n",
      "8\n",
      "0 5 10 15 20 25 30 35 40 45 50 55 60 65 70 75 80 85 90 95 10 9 8 7 6 5 4 3 2 1 "
     ]
    }
   ],
   "source": [
    "for i in range(5):\n",
    "    print (i, end=\"\")\n",
    "\n",
    "for j in range(0,10,2):\n",
    "    print (j)\n",
    "\n",
    "for k in range (0,100,5):\n",
    "    print(k, end=\" \")\n",
    "\n",
    "for m in range (10,0,-1):\n",
    "    print(m, end =\" \")"
   ]
  },
  {
   "cell_type": "markdown",
   "metadata": {},
   "source": [
    "## Strings\n"
   ]
  },
  {
   "cell_type": "code",
   "execution_count": 22,
   "metadata": {},
   "outputs": [
    {
     "name": "stdout",
     "output_type": "stream",
     "text": [
      "Thank you. Here is the analysis\n",
      "63 is the length of your message\n",
      "The most common letter in English, 'e' is present in your quote\n",
      "The most common letter in English, 'e' appears 4 times in your quote.\n",
      "The quote is all lower case\n"
     ]
    }
   ],
   "source": [
    "message=input(\"Write your favorite quote here:\")\n",
    "print(f\"Thank you. Here is the analysis\")\n",
    "\n",
    "#length\n",
    "print( len(message) ,f\"is the length of your message\")\n",
    "\n",
    "if \"e\" in message:\n",
    "    print(\"The most common letter in English, 'e' is present in your quote\")\n",
    "else:\n",
    "    print(\"The most common letter in English, 'e' is NOT present in your quote\")\n",
    "\n",
    "#Count the number of \"e\"\n",
    "print(\"The most common letter in English, 'e' appears\", message.count('e'), \"times in your quote.\")\n",
    "\n",
    "if message.islower():\n",
    "    print(\"The quote is all lower case\")\n",
    "elif message.isupper():\n",
    "    print(\"The message is all uppercase\")\n",
    "else:\n",
    "    print(\"The quote is either mixed case or contains non-alphabetic character\")"
   ]
  },
  {
   "cell_type": "code",
   "execution_count": 27,
   "metadata": {},
   "outputs": [
    {
     "name": "stdout",
     "output_type": "stream",
     "text": [
      "r\n",
      "ogra\n",
      "ogramming\n",
      "progra\n"
     ]
    }
   ],
   "source": [
    "word=\"programming\"\n",
    "print(word[1])\n",
    "print(word[2:6])\n",
    "print(word[2:])\n",
    "print(word[:6])"
   ]
  },
  {
   "cell_type": "markdown",
   "metadata": {},
   "source": [
    "### Caesars Cipher"
   ]
  },
  {
   "cell_type": "code",
   "execution_count": 28,
   "metadata": {},
   "outputs": [
    {
     "name": "stdout",
     "output_type": "stream",
     "text": [
      "\n",
      " Encrypted string: Khoor\n"
     ]
    }
   ],
   "source": [
    "original_string=input(\"Enter the text you wish to encrypt\")\n",
    "\n",
    "encrypted_string=\"\"\n",
    "\n",
    "for letter in original_string:\n",
    "    encrypted_letter=ord(letter)+3\n",
    "    encrypted_string += chr(encrypted_letter)\n",
    "print(\"\\n Encrypted string:\", encrypted_string)"
   ]
  },
  {
   "cell_type": "code",
   "execution_count": 30,
   "metadata": {},
   "outputs": [
    {
     "name": "stdout",
     "output_type": "stream",
     "text": [
      "\n",
      " LETTER by LETTER Analysis\n",
      "Letter\tOrd.\tNew Ord. \n",
      "Encrypted\n",
      "h \t 104 \t k\n",
      "e \t 101 \t h\n",
      "l \t 108 \t o\n",
      "l \t 108 \t o\n",
      "o \t 111 \t r\n",
      "\n",
      " Encrypted string:  khoor\n"
     ]
    }
   ],
   "source": [
    "original_string=input(\"Enter the text you wish to encrypt\")\n",
    "\n",
    "encrypted_string=\" \"\n",
    "print(\"\\n LETTER by LETTER Analysis\")\n",
    "print(\"Letter\\tOrd.\\tNew Ord. \\nEncrypted\")\n",
    "\n",
    "for letter in original_string:\n",
    "    encrypted_letter=ord(letter)+3\n",
    "    encrypted_string += chr(encrypted_letter)\n",
    "    print(letter, \"\\t\", ord(letter), \"\\t\", chr(encrypted_letter))\n",
    "print(\"\\n Encrypted string:\", encrypted_string)\n",
    "\n"
   ]
  }
 ],
 "metadata": {
  "kernelspec": {
   "display_name": "Python 3",
   "language": "python",
   "name": "python3"
  },
  "language_info": {
   "codemirror_mode": {
    "name": "ipython",
    "version": 3
   },
   "file_extension": ".py",
   "mimetype": "text/x-python",
   "name": "python",
   "nbconvert_exporter": "python",
   "pygments_lexer": "ipython3",
   "version": "3.12.2"
  }
 },
 "nbformat": 4,
 "nbformat_minor": 2
}
